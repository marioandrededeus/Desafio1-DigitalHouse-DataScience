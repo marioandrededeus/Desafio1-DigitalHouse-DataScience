{
 "cells": [
  {
   "cell_type": "markdown",
   "metadata": {},
   "source": [
    "## Desafio_1\n",
    "\n",
    "Agora vamos praticas tudo o que aprendemos no módulo 1 utilizando dados reais do CAGED (Cadastro Geral de Empregados e Desempregados)\n",
    "\n",
    "<br>\n",
    "<img src=\"img/caged.png\" width='1200' >\n",
    "<br>\n",
    "\n",
    "O Cadastro Geral de Empregados e Desempregados (CAGED) foi criado como registro permanente de admissões e dispensa de empregados, sob o regime da Consolidação das Leis do Trabalho (CLT).\n",
    "\n",
    "É utilizado pelo Programa de Seguro-Desemprego, para conferir os dados referentes aos vínculos trabalhistas, além de outros programas sociais.\n",
    "\n",
    "Este Cadastro serve, ainda, como base para a elaboração de estudos, pesquisas, projetos e programas ligados ao mercado de trabalho, ao mesmo tempo em que subsidia a tomada de decisões para ações governamentais.\n",
    "\n",
    "Visite o site do CAGED através [deste link](http://trabalho.gov.br/trabalhador-caged/2015-09-10-17-46-22) e acesse os dados clicando inicialemente em **ESTATÍSTICA** e depois em **MICRODADOS**, então acesse a base de dados do CAGED e baixe o último arquivo do ano de 2018 **CAGEDEST_122018.7z**. Além disso, baize também o arquivo **CAGEDEST_layout_Atualizado.xls** para o dicionário de dados.\n",
    "\n",
    "Após isso, podemos começar as nossas análises:\n",
    "\n",
    "1. **Importar as bibliotecas** e ler os dados: Importe as bibliotecas necessárias e verifique a cara dos dados e suas informações básicas dos conteúdos das colunas.(OK)\n",
    "\n",
    "2. Limpeza e transformação da variável alvo **Salário Mensal**: verifique o tipo de dado da variával Salário Mensal, faça as devidas mudanças, plote a distribuição e dispersão dos dados e aplique a transformação matemática para a correção da assimetria.\n",
    "\n",
    "3. Verificação dos dados da variável **Idade**: verifique os dados da variável Idade, plote uma distribuição e uma dispersão, calcule a correlação com a variável salário mensal e interprete os resultados.\n",
    "\n",
    "4. Verificação dos dados da variável **Grau de Instrução**: verifique os dados da variável Grau de instrução, plote uma distribuição e uma dispersão, calcule a correlação com a variável salário mensal e interprete os resultados.\n",
    "\n",
    "5. Verificação dos dados da variável **Sexo**: verifique os dados da variável Sexo, plote uma distribuição e uma dispersão, calcule a correlação com a variável salário mensal e interprete os resultados. Depois disso, faça uma inferência estatística pra verificar se os homens ganham mais que as mulheres.\n",
    "\n",
    "6. Verificação dos dados da variável **Raça Cor**: verifique os dados da variável Raça Cor, plote uma distribuição e uma dispersão, calcule a correlação com a variável salário mensal e interprete os resultados. Depois disso, faça uma inferência estatística pra verificar se os brancos ganham mais que os outros grupos étnicos.\n",
    "\n",
    "7. Elaborar uma hipótese para ser rejeitada ou não-rejeitada por você de acordo com o resultado da sua análise, através da utilização dos dados do CAJED considerando as suas colunas.\n",
    "\n",
    "8. Avançado: plote **todas as correlações das variávies numéricas entre si**. Sugestão busque uma biblioteca chamada SEABORN e plote um heatmap com as correlações.\n",
    "\n",
    "<!--9. Avançado: Plote uma **regressão múltipla**.-->\n"
   ]
  },
  {
   "cell_type": "markdown",
   "metadata": {},
   "source": [
    "# Item 1: Importar as bibliotecas"
   ]
  },
  {
   "cell_type": "code",
   "execution_count": 1,
   "metadata": {},
   "outputs": [],
   "source": [
    "import matplotlib.pyplot as plt\n",
    "import pandas as pd \n",
    "import numpy as np\n",
    "import scipy.stats as st\n",
    "%matplotlib inline\n",
    "\n",
    "import warnings\n",
    "warnings.filterwarnings(\"ignore\")"
   ]
  },
  {
   "cell_type": "code",
   "execution_count": 2,
   "metadata": {},
   "outputs": [
    {
     "data": {
      "text/html": [
       "<div>\n",
       "<style scoped>\n",
       "    .dataframe tbody tr th:only-of-type {\n",
       "        vertical-align: middle;\n",
       "    }\n",
       "\n",
       "    .dataframe tbody tr th {\n",
       "        vertical-align: top;\n",
       "    }\n",
       "\n",
       "    .dataframe thead th {\n",
       "        text-align: right;\n",
       "    }\n",
       "</style>\n",
       "<table border=\"1\" class=\"dataframe\">\n",
       "  <thead>\n",
       "    <tr style=\"text-align: right;\">\n",
       "      <th></th>\n",
       "      <th>Admitidos/Desligados</th>\n",
       "      <th>Grau Instrução</th>\n",
       "      <th>Idade</th>\n",
       "      <th>Raça Cor</th>\n",
       "      <th>Salário Mensal</th>\n",
       "      <th>Sexo</th>\n",
       "      <th>UF</th>\n",
       "    </tr>\n",
       "  </thead>\n",
       "  <tbody>\n",
       "    <tr>\n",
       "      <th>0</th>\n",
       "      <td>1</td>\n",
       "      <td>6</td>\n",
       "      <td>24</td>\n",
       "      <td>8</td>\n",
       "      <td>954.0</td>\n",
       "      <td>1</td>\n",
       "      <td>50</td>\n",
       "    </tr>\n",
       "    <tr>\n",
       "      <th>1</th>\n",
       "      <td>1</td>\n",
       "      <td>8</td>\n",
       "      <td>25</td>\n",
       "      <td>2</td>\n",
       "      <td>2500.0</td>\n",
       "      <td>1</td>\n",
       "      <td>50</td>\n",
       "    </tr>\n",
       "    <tr>\n",
       "      <th>2</th>\n",
       "      <td>1</td>\n",
       "      <td>2</td>\n",
       "      <td>55</td>\n",
       "      <td>8</td>\n",
       "      <td>0.0</td>\n",
       "      <td>1</td>\n",
       "      <td>50</td>\n",
       "    </tr>\n",
       "    <tr>\n",
       "      <th>3</th>\n",
       "      <td>1</td>\n",
       "      <td>2</td>\n",
       "      <td>52</td>\n",
       "      <td>8</td>\n",
       "      <td>0.0</td>\n",
       "      <td>1</td>\n",
       "      <td>50</td>\n",
       "    </tr>\n",
       "    <tr>\n",
       "      <th>4</th>\n",
       "      <td>1</td>\n",
       "      <td>2</td>\n",
       "      <td>32</td>\n",
       "      <td>8</td>\n",
       "      <td>0.0</td>\n",
       "      <td>1</td>\n",
       "      <td>50</td>\n",
       "    </tr>\n",
       "  </tbody>\n",
       "</table>\n",
       "</div>"
      ],
      "text/plain": [
       "   Admitidos/Desligados  Grau Instrução  Idade  Raça Cor  Salário Mensal  \\\n",
       "0                     1               6     24         8           954.0   \n",
       "1                     1               8     25         2          2500.0   \n",
       "2                     1               2     55         8             0.0   \n",
       "3                     1               2     52         8             0.0   \n",
       "4                     1               2     32         8             0.0   \n",
       "\n",
       "   Sexo  UF  \n",
       "0     1  50  \n",
       "1     1  50  \n",
       "2     1  50  \n",
       "3     1  50  \n",
       "4     1  50  "
      ]
     },
     "execution_count": 2,
     "metadata": {},
     "output_type": "execute_result"
    }
   ],
   "source": [
    "#importando somente as colunas importantes\n",
    "df = pd.read_csv('cagedest_122018.txt',\n",
    "                sep=';',\n",
    "                encoding='cp1252',\n",
    "                decimal=',',\n",
    "                usecols=['Admitidos/Desligados',\n",
    "                         'Grau Instrução',\n",
    "                         'Idade',\n",
    "                         'Raça Cor', \n",
    "                         'Salário Mensal',\n",
    "                         'Sexo', \n",
    "                         'UF'])\n",
    "\n",
    "df.head()"
   ]
  },
  {
   "cell_type": "code",
   "execution_count": 3,
   "metadata": {},
   "outputs": [],
   "source": [
    "#Renomeando as colunas\n",
    "df.rename(columns={'Admitidos/Desligados':'admitidos_desligados',\n",
    "                   'Salário Mensal': 'salario', \n",
    "                   'Grau Instrução': 'escolaridade',\n",
    "                   'Raça Cor': 'raca',\n",
    "                   'Sexo':'sexo',\n",
    "                   'Idade':'idade'}, inplace=True)"
   ]
  },
  {
   "cell_type": "code",
   "execution_count": 4,
   "metadata": {},
   "outputs": [
    {
     "data": {
      "text/html": [
       "<div>\n",
       "<style scoped>\n",
       "    .dataframe tbody tr th:only-of-type {\n",
       "        vertical-align: middle;\n",
       "    }\n",
       "\n",
       "    .dataframe tbody tr th {\n",
       "        vertical-align: top;\n",
       "    }\n",
       "\n",
       "    .dataframe thead th {\n",
       "        text-align: right;\n",
       "    }\n",
       "</style>\n",
       "<table border=\"1\" class=\"dataframe\">\n",
       "  <thead>\n",
       "    <tr style=\"text-align: right;\">\n",
       "      <th></th>\n",
       "      <th>admitidos_desligados</th>\n",
       "      <th>escolaridade</th>\n",
       "      <th>idade</th>\n",
       "      <th>raca</th>\n",
       "      <th>salario</th>\n",
       "      <th>sexo</th>\n",
       "      <th>UF</th>\n",
       "    </tr>\n",
       "  </thead>\n",
       "  <tbody>\n",
       "    <tr>\n",
       "      <th>0</th>\n",
       "      <td>1</td>\n",
       "      <td>6</td>\n",
       "      <td>24</td>\n",
       "      <td>8</td>\n",
       "      <td>954.0</td>\n",
       "      <td>1</td>\n",
       "      <td>50</td>\n",
       "    </tr>\n",
       "    <tr>\n",
       "      <th>1</th>\n",
       "      <td>1</td>\n",
       "      <td>8</td>\n",
       "      <td>25</td>\n",
       "      <td>2</td>\n",
       "      <td>2500.0</td>\n",
       "      <td>1</td>\n",
       "      <td>50</td>\n",
       "    </tr>\n",
       "    <tr>\n",
       "      <th>2</th>\n",
       "      <td>1</td>\n",
       "      <td>2</td>\n",
       "      <td>55</td>\n",
       "      <td>8</td>\n",
       "      <td>0.0</td>\n",
       "      <td>1</td>\n",
       "      <td>50</td>\n",
       "    </tr>\n",
       "    <tr>\n",
       "      <th>3</th>\n",
       "      <td>1</td>\n",
       "      <td>2</td>\n",
       "      <td>52</td>\n",
       "      <td>8</td>\n",
       "      <td>0.0</td>\n",
       "      <td>1</td>\n",
       "      <td>50</td>\n",
       "    </tr>\n",
       "    <tr>\n",
       "      <th>4</th>\n",
       "      <td>1</td>\n",
       "      <td>2</td>\n",
       "      <td>32</td>\n",
       "      <td>8</td>\n",
       "      <td>0.0</td>\n",
       "      <td>1</td>\n",
       "      <td>50</td>\n",
       "    </tr>\n",
       "  </tbody>\n",
       "</table>\n",
       "</div>"
      ],
      "text/plain": [
       "   admitidos_desligados  escolaridade  idade  raca  salario  sexo  UF\n",
       "0                     1             6     24     8    954.0     1  50\n",
       "1                     1             8     25     2   2500.0     1  50\n",
       "2                     1             2     55     8      0.0     1  50\n",
       "3                     1             2     52     8      0.0     1  50\n",
       "4                     1             2     32     8      0.0     1  50"
      ]
     },
     "execution_count": 4,
     "metadata": {},
     "output_type": "execute_result"
    }
   ],
   "source": [
    "df.head()"
   ]
  },
  {
   "cell_type": "code",
   "execution_count": 5,
   "metadata": {},
   "outputs": [
    {
     "data": {
      "text/plain": [
       "(2256752, 7)"
      ]
     },
     "execution_count": 5,
     "metadata": {},
     "output_type": "execute_result"
    }
   ],
   "source": [
    "df.shape"
   ]
  },
  {
   "cell_type": "code",
   "execution_count": 6,
   "metadata": {},
   "outputs": [
    {
     "data": {
      "text/plain": [
       "count    2.256752e+06\n",
       "mean     1.627244e+03\n",
       "std      2.097521e+03\n",
       "min      0.000000e+00\n",
       "25%      1.066000e+03\n",
       "50%      1.271000e+03\n",
       "75%      1.600000e+03\n",
       "max      1.428300e+05\n",
       "Name: salario, dtype: float64"
      ]
     },
     "execution_count": 6,
     "metadata": {},
     "output_type": "execute_result"
    }
   ],
   "source": [
    "#Média 1,627 é maior que 75% dos dados, indicando acentuada assimetria positiva\n",
    "df['salario'].describe()"
   ]
  },
  {
   "cell_type": "code",
   "execution_count": 7,
   "metadata": {},
   "outputs": [
    {
     "name": "stdout",
     "output_type": "stream",
     "text": [
      "Mediana Salários: 1271.00\n",
      "Média Salários:   1627.24\n"
     ]
    }
   ],
   "source": [
    "print(f'Mediana Salários: {df.salario.median():.02f}')\n",
    "print(f'Média Salários:   {df.salario.mean():.02f}')"
   ]
  },
  {
   "cell_type": "code",
   "execution_count": 8,
   "metadata": {},
   "outputs": [
    {
     "data": {
      "image/png": "[encoded data removed]",
      "text/plain": [
       "<Figure size 432x288 with 1 Axes>"
      ]
     },
     "metadata": {
      "needs_background": "light"
     },
     "output_type": "display_data"
    }
   ],
   "source": [
    "#Plotando Histograma da base completa de Salarios, incluindo Zeros e valores elevados\n",
    "from scipy.stats import norm\n",
    "\n",
    "# Generate some data for this demonstration.\n",
    "data0 = df.salario\n",
    "\n",
    "# Fit a normal distribution to the data:\n",
    "mu, std = norm.fit(data0)\n",
    "\n",
    "# Plot the histogram.\n",
    "plt.hist(data0, bins=50, density=True, alpha=0.6, color='b')\n",
    "\n",
    "# Plot the PDF.\n",
    "xmin, xmax = plt.xlim()\n",
    "x = np.linspace(xmin, xmax, 100)\n",
    "p = norm.pdf(x, mu, std)\n",
    "plt.plot(x, p, 'k', linewidth=2)\n",
    "title = \"Salario Completo: mu = %.2f,  std = %.2f\" % (mu, std)\n",
    "plt.title(title)\n",
    "\n",
    "plt.show()"
   ]
  },
  {
   "cell_type": "code",
   "execution_count": 9,
   "metadata": {},
   "outputs": [
    {
     "data": {
      "text/plain": [
       "24245"
      ]
     },
     "execution_count": 9,
     "metadata": {},
     "output_type": "execute_result"
    }
   ],
   "source": [
    "#Qtd de Salarios == 0\n",
    "sum(df['salario']==0)"
   ]
  },
  {
   "cell_type": "code",
   "execution_count": 10,
   "metadata": {},
   "outputs": [
    {
     "data": {
      "text/plain": [
       "142830.0"
      ]
     },
     "execution_count": 10,
     "metadata": {},
     "output_type": "execute_result"
    }
   ],
   "source": [
    "df['salario'].max()"
   ]
  },
  {
   "cell_type": "code",
   "execution_count": 11,
   "metadata": {},
   "outputs": [
    {
     "data": {
      "text/plain": [
       "(0.2637892961502075, 0.0)"
      ]
     },
     "execution_count": 11,
     "metadata": {},
     "output_type": "execute_result"
    }
   ],
   "source": [
    "#Teste de Shapiro para Verif da Normalidade considerando todos os Salarios\n",
    "import numpy as np # linear algebraimport scipy\n",
    "from scipy import stats\n",
    "\n",
    "stats.shapiro(df['salario'])"
   ]
  },
  {
   "cell_type": "markdown",
   "metadata": {},
   "source": [
    "# Item 2: Limpeza e transformação da variável alvo Salário Mensal"
   ]
  },
  {
   "cell_type": "markdown",
   "metadata": {},
   "source": [
    "# Pelo teste de Shapiro a distribuição não é normal, por isso vamos utilizar técnicas de transformação para melhorar os resultados"
   ]
  },
  {
   "cell_type": "code",
   "execution_count": 12,
   "metadata": {},
   "outputs": [
    {
     "data": {
      "text/plain": [
       "(1627.0908000000002, 295.1577138203174)"
      ]
     },
     "execution_count": 12,
     "metadata": {},
     "output_type": "execute_result"
    },
    {
     "data": {
      "image/png": "[encoded data removed]",
      "text/plain": [
       "<Figure size 432x288 with 1 Axes>"
      ]
     },
     "metadata": {
      "needs_background": "light"
     },
     "output_type": "display_data"
    }
   ],
   "source": [
    "# Média das médias\n",
    "#definindo uma função para tirar um sample \n",
    "def sample(df, n):\n",
    "    index = np.random.choice(range(0, len(df)), size = n)\n",
    "    df_s = np.array(df.iloc[index,])\n",
    "    return(df_s)\n",
    "\n",
    "# calculando a média dos samples\n",
    "def samp_mean(df, sample_size, num_samples):\n",
    "    means = []\n",
    "    for reps in range(0, num_samples):\n",
    "        s_ = sample(df, sample_size)\n",
    "        m_ = s_.mean()\n",
    "        means.append(m_)\n",
    "    return(means)\n",
    "\n",
    "# definindo o tamnho dos samples e da quantidade de samples\n",
    "sample_size = 50\n",
    "num_samples = 100\n",
    "\n",
    "# definindo um DataFrame e plotando um histograma\n",
    "sample_df = pd.Series(samp_mean(df['salario'], sample_size, num_samples))\n",
    "sample_df.plot.hist(bins = 30)\n",
    "# calculando as médias \n",
    "sample_df.mean(), sample_df.std()"
   ]
  },
  {
   "cell_type": "code",
   "execution_count": 13,
   "metadata": {},
   "outputs": [
    {
     "data": {
      "text/plain": [
       "count     100.000000\n",
       "mean     1627.090800\n",
       "std       295.157714\n",
       "min      1219.320000\n",
       "25%      1432.695000\n",
       "50%      1563.840000\n",
       "75%      1703.890000\n",
       "max      3008.040000\n",
       "dtype: float64"
      ]
     },
     "execution_count": 13,
     "metadata": {},
     "output_type": "execute_result"
    }
   ],
   "source": [
    "#Describe da resultante da Média das Médias\n",
    "sample_df.describe()"
   ]
  },
  {
   "cell_type": "code",
   "execution_count": 14,
   "metadata": {},
   "outputs": [
    {
     "data": {
      "text/plain": [
       "(0.8127387166023254, 6.213981551539405e-10)"
      ]
     },
     "execution_count": 14,
     "metadata": {},
     "output_type": "execute_result"
    }
   ],
   "source": [
    "#Teste de Shapiro para resultante da média das médias\n",
    "import numpy as np # linear algebraimport scipy\n",
    "from scipy import stats\n",
    "\n",
    "stats.shapiro(sample_df)"
   ]
  },
  {
   "cell_type": "markdown",
   "metadata": {},
   "source": [
    "# Pela Média das Médias conseguimos normalizar os dados mas não conseguimos utilizar a variável por ser impossível interpretar os resultados."
   ]
  },
  {
   "cell_type": "markdown",
   "metadata": {},
   "source": [
    "# Para aplicar a técnica do Log, vamos desconsiderar os salários == 0 e analisá-los separadamente depois"
   ]
  },
  {
   "cell_type": "code",
   "execution_count": 15,
   "metadata": {},
   "outputs": [],
   "source": [
    "df1 = df[df['salario']>0]"
   ]
  },
  {
   "cell_type": "code",
   "execution_count": 16,
   "metadata": {},
   "outputs": [
    {
     "data": {
      "text/html": [
       "<div>\n",
       "<style scoped>\n",
       "    .dataframe tbody tr th:only-of-type {\n",
       "        vertical-align: middle;\n",
       "    }\n",
       "\n",
       "    .dataframe tbody tr th {\n",
       "        vertical-align: top;\n",
       "    }\n",
       "\n",
       "    .dataframe thead th {\n",
       "        text-align: right;\n",
       "    }\n",
       "</style>\n",
       "<table border=\"1\" class=\"dataframe\">\n",
       "  <thead>\n",
       "    <tr style=\"text-align: right;\">\n",
       "      <th></th>\n",
       "      <th>admitidos_desligados</th>\n",
       "      <th>escolaridade</th>\n",
       "      <th>idade</th>\n",
       "      <th>raca</th>\n",
       "      <th>salario</th>\n",
       "      <th>sexo</th>\n",
       "      <th>UF</th>\n",
       "    </tr>\n",
       "  </thead>\n",
       "  <tbody>\n",
       "    <tr>\n",
       "      <th>0</th>\n",
       "      <td>1</td>\n",
       "      <td>6</td>\n",
       "      <td>24</td>\n",
       "      <td>8</td>\n",
       "      <td>954.0</td>\n",
       "      <td>1</td>\n",
       "      <td>50</td>\n",
       "    </tr>\n",
       "    <tr>\n",
       "      <th>1</th>\n",
       "      <td>1</td>\n",
       "      <td>8</td>\n",
       "      <td>25</td>\n",
       "      <td>2</td>\n",
       "      <td>2500.0</td>\n",
       "      <td>1</td>\n",
       "      <td>50</td>\n",
       "    </tr>\n",
       "    <tr>\n",
       "      <th>7</th>\n",
       "      <td>1</td>\n",
       "      <td>4</td>\n",
       "      <td>50</td>\n",
       "      <td>2</td>\n",
       "      <td>1061.0</td>\n",
       "      <td>2</td>\n",
       "      <td>50</td>\n",
       "    </tr>\n",
       "    <tr>\n",
       "      <th>11</th>\n",
       "      <td>1</td>\n",
       "      <td>7</td>\n",
       "      <td>22</td>\n",
       "      <td>8</td>\n",
       "      <td>1061.0</td>\n",
       "      <td>1</td>\n",
       "      <td>50</td>\n",
       "    </tr>\n",
       "    <tr>\n",
       "      <th>12</th>\n",
       "      <td>1</td>\n",
       "      <td>7</td>\n",
       "      <td>37</td>\n",
       "      <td>2</td>\n",
       "      <td>1061.0</td>\n",
       "      <td>1</td>\n",
       "      <td>50</td>\n",
       "    </tr>\n",
       "  </tbody>\n",
       "</table>\n",
       "</div>"
      ],
      "text/plain": [
       "    admitidos_desligados  escolaridade  idade  raca  salario  sexo  UF\n",
       "0                      1             6     24     8    954.0     1  50\n",
       "1                      1             8     25     2   2500.0     1  50\n",
       "7                      1             4     50     2   1061.0     2  50\n",
       "11                     1             7     22     8   1061.0     1  50\n",
       "12                     1             7     37     2   1061.0     1  50"
      ]
     },
     "execution_count": 16,
     "metadata": {},
     "output_type": "execute_result"
    }
   ],
   "source": [
    "df1.head()"
   ]
  },
  {
   "cell_type": "code",
   "execution_count": 17,
   "metadata": {},
   "outputs": [
    {
     "data": {
      "text/plain": [
       "(2232507, 7)"
      ]
     },
     "execution_count": 17,
     "metadata": {},
     "output_type": "execute_result"
    }
   ],
   "source": [
    "df1.shape"
   ]
  },
  {
   "cell_type": "code",
   "execution_count": 18,
   "metadata": {},
   "outputs": [
    {
     "name": "stdout",
     "output_type": "stream",
     "text": [
      "24245\n",
      "0.010743316057767977\n"
     ]
    }
   ],
   "source": [
    "#Qtd de Salarios == 0 desconsiderados no df1 (1,07%)\n",
    "print(len(df)-len(df1))\n",
    "print((len(df)-len(df1))/len(df))"
   ]
  },
  {
   "cell_type": "code",
   "execution_count": 19,
   "metadata": {},
   "outputs": [
    {
     "data": {
      "text/plain": [
       "count    2.232507e+06\n",
       "mean     1.644916e+03\n",
       "std      2.101976e+03\n",
       "min      2.870000e+02\n",
       "25%      1.074000e+03\n",
       "50%      1.278000e+03\n",
       "75%      1.605000e+03\n",
       "max      1.428300e+05\n",
       "Name: salario, dtype: float64"
      ]
     },
     "execution_count": 19,
     "metadata": {},
     "output_type": "execute_result"
    }
   ],
   "source": [
    "#continua com Assimetria Positiva\n",
    "df1.salario.describe()"
   ]
  },
  {
   "cell_type": "markdown",
   "metadata": {},
   "source": [
    "# Aplicando Log"
   ]
  },
  {
   "cell_type": "code",
   "execution_count": 20,
   "metadata": {},
   "outputs": [],
   "source": [
    "# aplicando o LOG na série de dados de salário > 0 e plotando uam distribuição\n",
    "df1['log_salario'] = np.log(df1['salario'])"
   ]
  },
  {
   "cell_type": "code",
   "execution_count": 21,
   "metadata": {},
   "outputs": [
    {
     "data": {
      "text/html": [
       "<div>\n",
       "<style scoped>\n",
       "    .dataframe tbody tr th:only-of-type {\n",
       "        vertical-align: middle;\n",
       "    }\n",
       "\n",
       "    .dataframe tbody tr th {\n",
       "        vertical-align: top;\n",
       "    }\n",
       "\n",
       "    .dataframe thead th {\n",
       "        text-align: right;\n",
       "    }\n",
       "</style>\n",
       "<table border=\"1\" class=\"dataframe\">\n",
       "  <thead>\n",
       "    <tr style=\"text-align: right;\">\n",
       "      <th></th>\n",
       "      <th>admitidos_desligados</th>\n",
       "      <th>escolaridade</th>\n",
       "      <th>idade</th>\n",
       "      <th>raca</th>\n",
       "      <th>salario</th>\n",
       "      <th>sexo</th>\n",
       "      <th>UF</th>\n",
       "      <th>log_salario</th>\n",
       "    </tr>\n",
       "  </thead>\n",
       "  <tbody>\n",
       "    <tr>\n",
       "      <th>0</th>\n",
       "      <td>1</td>\n",
       "      <td>6</td>\n",
       "      <td>24</td>\n",
       "      <td>8</td>\n",
       "      <td>954.0</td>\n",
       "      <td>1</td>\n",
       "      <td>50</td>\n",
       "      <td>6.860664</td>\n",
       "    </tr>\n",
       "    <tr>\n",
       "      <th>1</th>\n",
       "      <td>1</td>\n",
       "      <td>8</td>\n",
       "      <td>25</td>\n",
       "      <td>2</td>\n",
       "      <td>2500.0</td>\n",
       "      <td>1</td>\n",
       "      <td>50</td>\n",
       "      <td>7.824046</td>\n",
       "    </tr>\n",
       "    <tr>\n",
       "      <th>7</th>\n",
       "      <td>1</td>\n",
       "      <td>4</td>\n",
       "      <td>50</td>\n",
       "      <td>2</td>\n",
       "      <td>1061.0</td>\n",
       "      <td>2</td>\n",
       "      <td>50</td>\n",
       "      <td>6.966967</td>\n",
       "    </tr>\n",
       "    <tr>\n",
       "      <th>11</th>\n",
       "      <td>1</td>\n",
       "      <td>7</td>\n",
       "      <td>22</td>\n",
       "      <td>8</td>\n",
       "      <td>1061.0</td>\n",
       "      <td>1</td>\n",
       "      <td>50</td>\n",
       "      <td>6.966967</td>\n",
       "    </tr>\n",
       "    <tr>\n",
       "      <th>12</th>\n",
       "      <td>1</td>\n",
       "      <td>7</td>\n",
       "      <td>37</td>\n",
       "      <td>2</td>\n",
       "      <td>1061.0</td>\n",
       "      <td>1</td>\n",
       "      <td>50</td>\n",
       "      <td>6.966967</td>\n",
       "    </tr>\n",
       "  </tbody>\n",
       "</table>\n",
       "</div>"
      ],
      "text/plain": [
       "    admitidos_desligados  escolaridade  idade  raca  salario  sexo  UF  \\\n",
       "0                      1             6     24     8    954.0     1  50   \n",
       "1                      1             8     25     2   2500.0     1  50   \n",
       "7                      1             4     50     2   1061.0     2  50   \n",
       "11                     1             7     22     8   1061.0     1  50   \n",
       "12                     1             7     37     2   1061.0     1  50   \n",
       "\n",
       "    log_salario  \n",
       "0      6.860664  \n",
       "1      7.824046  \n",
       "7      6.966967  \n",
       "11     6.966967  \n",
       "12     6.966967  "
      ]
     },
     "execution_count": 21,
     "metadata": {},
     "output_type": "execute_result"
    }
   ],
   "source": [
    "df1.head()"
   ]
  },
  {
   "cell_type": "code",
   "execution_count": 22,
   "metadata": {},
   "outputs": [
    {
     "data": {
      "text/plain": [
       "count    2.232507e+06\n",
       "mean     7.237505e+00\n",
       "std      4.751255e-01\n",
       "min      5.659482e+00\n",
       "25%      6.979145e+00\n",
       "50%      7.153052e+00\n",
       "75%      7.380879e+00\n",
       "max      1.186941e+01\n",
       "Name: log_salario, dtype: float64"
      ]
     },
     "execution_count": 22,
     "metadata": {},
     "output_type": "execute_result"
    }
   ],
   "source": [
    "df1.log_salario.describe()"
   ]
  },
  {
   "cell_type": "code",
   "execution_count": 23,
   "metadata": {},
   "outputs": [
    {
     "data": {
      "text/plain": [
       "(2232507, 8)"
      ]
     },
     "execution_count": 23,
     "metadata": {},
     "output_type": "execute_result"
    }
   ],
   "source": [
    "#Após Log\n",
    "df1.shape"
   ]
  },
  {
   "cell_type": "code",
   "execution_count": 24,
   "metadata": {},
   "outputs": [
    {
     "data": {
      "image/png": "[encoded data removed]",
      "text/plain": [
       "<Figure size 432x288 with 1 Axes>"
      ]
     },
     "metadata": {
      "needs_background": "light"
     },
     "output_type": "display_data"
    }
   ],
   "source": [
    "from scipy.stats import norm\n",
    "\n",
    "# Generate some data for this demonstration.\n",
    "data2 = df1.log_salario\n",
    "\n",
    "# Fit a normal distribution to the data:\n",
    "mu, std = norm.fit(data2)\n",
    "\n",
    "# Plot the histogram.\n",
    "plt.hist(data2, bins=100, density=True, alpha=0.6, color='b')\n",
    "\n",
    "# Plot the PDF.\n",
    "xmin, xmax = plt.xlim()\n",
    "x = np.linspace(xmin, xmax, 50)\n",
    "p = norm.pdf(x, mu, std)\n",
    "plt.plot(x, p, 'k', linewidth=2)\n",
    "title = \"Log_Salario: mu = %.2f,  std = %.2f\" % (mu, std)\n",
    "plt.title(title)\n",
    "\n",
    "plt.show()"
   ]
  },
  {
   "cell_type": "markdown",
   "metadata": {},
   "source": [
    "# Teste de Shapiro após aplicar Log"
   ]
  },
  {
   "cell_type": "code",
   "execution_count": 25,
   "metadata": {},
   "outputs": [
    {
     "data": {
      "text/plain": [
       "(0.8477897644042969, 0.0)"
      ]
     },
     "execution_count": 25,
     "metadata": {},
     "output_type": "execute_result"
    }
   ],
   "source": [
    "import numpy as np # linear algebraimport scipy\n",
    "from scipy import stats\n",
    "\n",
    "stats.shapiro(df1['log_salario'])"
   ]
  },
  {
   "cell_type": "markdown",
   "metadata": {},
   "source": [
    "# Normalizando o Log"
   ]
  },
  {
   "cell_type": "code",
   "execution_count": 26,
   "metadata": {},
   "outputs": [],
   "source": [
    "df1['normal_log_salario'] = ( df1['log_salario'] - df1['log_salario'].mean() ) / df1['log_salario'].std()"
   ]
  },
  {
   "cell_type": "code",
   "execution_count": 27,
   "metadata": {},
   "outputs": [
    {
     "data": {
      "image/png": "[encoded data removed]",
      "text/plain": [
       "<Figure size 432x288 with 1 Axes>"
      ]
     },
     "metadata": {
      "needs_background": "light"
     },
     "output_type": "display_data"
    }
   ],
   "source": [
    "from scipy.stats import norm\n",
    "\n",
    "# Generate some data for this demonstration.\n",
    "data_normal = df1.normal_log_salario\n",
    "\n",
    "# Fit a normal distribution to the data:\n",
    "mu_log, std_log = norm.fit(data_normal)\n",
    "\n",
    "# Plot the histogram.\n",
    "plt.hist(data_normal, bins=100, density=True, alpha=0.6, color='b')\n",
    "\n",
    "# Plot the PDF.\n",
    "xmin, xmax = plt.xlim()\n",
    "x = np.linspace(xmin, xmax, 50)\n",
    "p = norm.pdf(x, mu_log, std_log)\n",
    "plt.plot(x, p, 'k', linewidth=2)\n",
    "title = \"Log_Salario_Normalizado: mu_log = %.2f,  std_log = %.2f\" % (mu, std)\n",
    "plt.title(title)\n",
    "\n",
    "plt.show()"
   ]
  },
  {
   "cell_type": "markdown",
   "metadata": {},
   "source": [
    "# Verificando o Z-score"
   ]
  },
  {
   "cell_type": "code",
   "execution_count": 28,
   "metadata": {},
   "outputs": [
    {
     "data": {
      "text/plain": [
       "(-1.959963545547422, 1.959963545621021)"
      ]
     },
     "execution_count": 28,
     "metadata": {},
     "output_type": "execute_result"
    }
   ],
   "source": [
    "# calculando o intervalo de confiança para os dados normalizados\n",
    "# é esperado os valores de z_score\n",
    "stats.norm.interval(alpha=0.95,loc=mu_log,scale=std_log)"
   ]
  },
  {
   "cell_type": "code",
   "execution_count": 29,
   "metadata": {},
   "outputs": [
    {
     "data": {
      "text/plain": [
       "(-1.959963545547422, 1.959963545621021)"
      ]
     },
     "execution_count": 29,
     "metadata": {},
     "output_type": "execute_result"
    }
   ],
   "source": [
    "# armazenando os dados em variáveis \n",
    "Z_score_inf = stats.norm.interval(alpha=0.95,loc=mu_log,scale=std_log)[0]\n",
    "Z_score_sup = stats.norm.interval(alpha=0.95,loc=mu_log,scale=std_log)[1]\n",
    "Z_score_inf,Z_score_sup"
   ]
  },
  {
   "cell_type": "markdown",
   "metadata": {},
   "source": [
    "# Criando df2 somente com salários contidos no intervalo de confiança"
   ]
  },
  {
   "cell_type": "code",
   "execution_count": 68,
   "metadata": {},
   "outputs": [],
   "source": [
    "df2=df1[(df1['normal_log_salario'] <= Z_score_sup) & (df1['normal_log_salario'] >= Z_score_inf)]\n",
    "df2=df2.sort_values(by = 'normal_log_salario')"
   ]
  },
  {
   "cell_type": "code",
   "execution_count": 69,
   "metadata": {},
   "outputs": [
    {
     "data": {
      "text/html": [
       "<div>\n",
       "<style scoped>\n",
       "    .dataframe tbody tr th:only-of-type {\n",
       "        vertical-align: middle;\n",
       "    }\n",
       "\n",
       "    .dataframe tbody tr th {\n",
       "        vertical-align: top;\n",
       "    }\n",
       "\n",
       "    .dataframe thead th {\n",
       "        text-align: right;\n",
       "    }\n",
       "</style>\n",
       "<table border=\"1\" class=\"dataframe\">\n",
       "  <thead>\n",
       "    <tr style=\"text-align: right;\">\n",
       "      <th></th>\n",
       "      <th>admitidos_desligados</th>\n",
       "      <th>escolaridade</th>\n",
       "      <th>idade</th>\n",
       "      <th>raca</th>\n",
       "      <th>salario</th>\n",
       "      <th>sexo</th>\n",
       "      <th>UF</th>\n",
       "      <th>log_salario</th>\n",
       "      <th>normal_log_salario</th>\n",
       "    </tr>\n",
       "  </thead>\n",
       "  <tbody>\n",
       "    <tr>\n",
       "      <th>2243958</th>\n",
       "      <td>1</td>\n",
       "      <td>7</td>\n",
       "      <td>22</td>\n",
       "      <td>4</td>\n",
       "      <td>549.0</td>\n",
       "      <td>1</td>\n",
       "      <td>22</td>\n",
       "      <td>6.308098</td>\n",
       "      <td>-1.956129</td>\n",
       "    </tr>\n",
       "  </tbody>\n",
       "</table>\n",
       "</div>"
      ],
      "text/plain": [
       "         admitidos_desligados  escolaridade  idade  raca  salario  sexo  UF  \\\n",
       "2243958                     1             7     22     4    549.0     1  22   \n",
       "\n",
       "         log_salario  normal_log_salario  \n",
       "2243958     6.308098           -1.956129  "
      ]
     },
     "execution_count": 69,
     "metadata": {},
     "output_type": "execute_result"
    }
   ],
   "source": [
    "#Menor Salário dentro do I.C (Z=-1.96): R$549,00\n",
    "df2.head(1)"
   ]
  },
  {
   "cell_type": "code",
   "execution_count": 70,
   "metadata": {},
   "outputs": [
    {
     "data": {
      "text/html": [
       "<div>\n",
       "<style scoped>\n",
       "    .dataframe tbody tr th:only-of-type {\n",
       "        vertical-align: middle;\n",
       "    }\n",
       "\n",
       "    .dataframe tbody tr th {\n",
       "        vertical-align: top;\n",
       "    }\n",
       "\n",
       "    .dataframe thead th {\n",
       "        text-align: right;\n",
       "    }\n",
       "</style>\n",
       "<table border=\"1\" class=\"dataframe\">\n",
       "  <thead>\n",
       "    <tr style=\"text-align: right;\">\n",
       "      <th></th>\n",
       "      <th>admitidos_desligados</th>\n",
       "      <th>escolaridade</th>\n",
       "      <th>idade</th>\n",
       "      <th>raca</th>\n",
       "      <th>salario</th>\n",
       "      <th>sexo</th>\n",
       "      <th>UF</th>\n",
       "      <th>log_salario</th>\n",
       "      <th>normal_log_salario</th>\n",
       "    </tr>\n",
       "  </thead>\n",
       "  <tbody>\n",
       "    <tr>\n",
       "      <th>1085570</th>\n",
       "      <td>2</td>\n",
       "      <td>8</td>\n",
       "      <td>29</td>\n",
       "      <td>8</td>\n",
       "      <td>3528.0</td>\n",
       "      <td>2</td>\n",
       "      <td>35</td>\n",
       "      <td>8.168486</td>\n",
       "      <td>1.959443</td>\n",
       "    </tr>\n",
       "  </tbody>\n",
       "</table>\n",
       "</div>"
      ],
      "text/plain": [
       "         admitidos_desligados  escolaridade  idade  raca  salario  sexo  UF  \\\n",
       "1085570                     2             8     29     8   3528.0     2  35   \n",
       "\n",
       "         log_salario  normal_log_salario  \n",
       "1085570     8.168486            1.959443  "
      ]
     },
     "execution_count": 70,
     "metadata": {},
     "output_type": "execute_result"
    }
   ],
   "source": [
    "#Maior Salário dentro do I.C (Z=1.96): R$3.528,00\n",
    "df2.tail(1)"
   ]
  },
  {
   "cell_type": "code",
   "execution_count": 71,
   "metadata": {},
   "outputs": [
    {
     "name": "stdout",
     "output_type": "stream",
     "text": [
      "Qtd de salários dentro do Intervalo de Confiança (95%): 2089010\n",
      "Menor Salário no Intervalo de Confiança (95%): R$549.00\n",
      "Maior Salário no Intervalo de Confiança (95%): R$3528.00\n",
      "\u001b[7mConclusão:\u001b[m Por inferência, salários entre \u001b[7m R$549.00 e R$3528.00 \u001b[m estão estatisticamente na média \u001b[7m p/ alfa=0,05 \u001b[m.\n"
     ]
    }
   ],
   "source": [
    "menor_salario=df2.salario.min()\n",
    "maior_salario=df2.salario.max()\n",
    "print(f'Qtd de salários dentro do Intervalo de Confiança (95%): {len(df2)}')\n",
    "print(f'Menor Salário no Intervalo de Confiança (95%): R${menor_salario:.02f}')\n",
    "print(f'Maior Salário no Intervalo de Confiança (95%): R${maior_salario:.02f}')\n",
    "print(f'\\033[7mConclusão:\\033[m Por inferência, salários entre \\033[7m R${menor_salario:.02f} e R${maior_salario:.02f} \\033[m estão estatisticamente na média \\033[7m p/ alfa=0,05 \\033[m.')"
   ]
  },
  {
   "cell_type": "markdown",
   "metadata": {},
   "source": [
    "# Item 3: verifique os dados da variável Idade, plote uma distribuição e uma dispersão, calcule a correlação com a variável salário mensal e interprete os resultados"
   ]
  },
  {
   "cell_type": "markdown",
   "metadata": {},
   "source": [
    "# Distribuição da variável Idade:"
   ]
  },
  {
   "cell_type": "code",
   "execution_count": 36,
   "metadata": {},
   "outputs": [
    {
     "data": {
      "text/plain": [
       "count    2.256752e+06\n",
       "mean     3.231423e+01\n",
       "std      1.096019e+01\n",
       "min      1.000000e+01\n",
       "25%      2.300000e+01\n",
       "50%      3.000000e+01\n",
       "75%      3.900000e+01\n",
       "max      1.030000e+02\n",
       "Name: idade, dtype: float64"
      ]
     },
     "execution_count": 36,
     "metadata": {},
     "output_type": "execute_result"
    }
   ],
   "source": [
    "df.idade.describe()"
   ]
  },
  {
   "cell_type": "code",
   "execution_count": 37,
   "metadata": {},
   "outputs": [
    {
     "data": {
      "image/png": "[encoded data removed]",
      "text/plain": [
       "<Figure size 432x288 with 1 Axes>"
      ]
     },
     "metadata": {
      "needs_background": "light"
     },
     "output_type": "display_data"
    }
   ],
   "source": [
    "from scipy.stats import norm\n",
    "\n",
    "# Generate some data for this demonstration.\n",
    "data = df.idade\n",
    "\n",
    "# Fit a normal distribution to the data:\n",
    "mu, std = norm.fit(data)\n",
    "\n",
    "# Plot the histogram.\n",
    "plt.hist(data, bins=100, density=True, alpha=0.6, color='b')\n",
    "\n",
    "# Plot the PDF.\n",
    "xmin, xmax = plt.xlim()\n",
    "x = np.linspace(xmin, xmax, 50)\n",
    "p = norm.pdf(x, mu, std)\n",
    "plt.plot(x, p, 'k', linewidth=2)\n",
    "title = \"Idade: mu = %.2f,  std = %.2f\" % (mu, std)\n",
    "plt.title(title)\n",
    "\n",
    "plt.show()"
   ]
  },
  {
   "cell_type": "code",
   "execution_count": 38,
   "metadata": {},
   "outputs": [
    {
     "data": {
      "text/plain": [
       "(0.9411314725875854, 0.0)"
      ]
     },
     "execution_count": 38,
     "metadata": {},
     "output_type": "execute_result"
    }
   ],
   "source": [
    "#Teste de Shapiro para Verif da Normalidade considerando todos as idades\n",
    "import numpy as np # linear algebraimport scipy\n",
    "from scipy import stats\n",
    "\n",
    "stats.shapiro(df['idade'])"
   ]
  },
  {
   "cell_type": "code",
   "execution_count": 39,
   "metadata": {},
   "outputs": [
    {
     "name": "stdout",
     "output_type": "stream",
     "text": [
      "Wall time: 0 ns\n"
     ]
    },
    {
     "data": {
      "image/png": "[encoded data removed]",
      "text/plain": [
       "<Figure size 432x288 with 1 Axes>"
      ]
     },
     "metadata": {
      "needs_background": "light"
     },
     "output_type": "display_data"
    }
   ],
   "source": [
    "x = df['idade']\n",
    "y = df['salario']\n",
    "\n",
    "# Plot\n",
    "%time\n",
    "plt.scatter(x, y)\n",
    "plt.title('Salario x Idade')\n",
    "plt.xlabel('Idade')\n",
    "plt.ylabel('Salario')\n",
    "plt.show()"
   ]
  },
  {
   "cell_type": "code",
   "execution_count": 40,
   "metadata": {},
   "outputs": [
    {
     "name": "stdout",
     "output_type": "stream",
     "text": [
      "0.15129436436275406\n"
     ]
    }
   ],
   "source": [
    "# Calculando a correlação (Pierson) entre as duas variáveis pelo scipy.stats\n",
    "#Como o valor ficou prox de 0, a correlação é FRACA.\n",
    "\n",
    "import scipy.stats\n",
    "x = df['salario']\n",
    "y = df['idade']\n",
    "\n",
    "metodo_nutella = scipy.stats.pearsonr(x, y)\n",
    "print(metodo_nutella[0])"
   ]
  },
  {
   "cell_type": "code",
   "execution_count": 41,
   "metadata": {},
   "outputs": [
    {
     "data": {
      "text/plain": [
       "array([[4.39959244e+06, 3.47813981e+03],\n",
       "       [3.47813981e+03, 1.20125752e+02]])"
      ]
     },
     "execution_count": 41,
     "metadata": {},
     "output_type": "execute_result"
    }
   ],
   "source": [
    "# Cálculo da covariância por numpy\n",
    "\n",
    "from numpy import cov\n",
    "x = df['salario']\n",
    "y = df['idade']\n",
    "cov(x, y)"
   ]
  },
  {
   "cell_type": "markdown",
   "metadata": {},
   "source": [
    "# Item 4: Verifique os dados da variável Grau de Instrução, plote uma distribuição e uma dispersão, calcule a correlação com a variável salário mensal e interprete os resultados."
   ]
  },
  {
   "cell_type": "code",
   "execution_count": 42,
   "metadata": {},
   "outputs": [
    {
     "data": {
      "text/plain": [
       "7    1273281\n",
       "9     254463\n",
       "6     201068\n",
       "5     199478\n",
       "4     123314\n",
       "8      89178\n",
       "2      60639\n",
       "3      47147\n",
       "1       8184\n",
       "Name: escolaridade, dtype: int64"
      ]
     },
     "execution_count": 42,
     "metadata": {},
     "output_type": "execute_result"
    }
   ],
   "source": [
    "df.escolaridade.value_counts()"
   ]
  },
  {
   "cell_type": "code",
   "execution_count": 43,
   "metadata": {},
   "outputs": [
    {
     "data": {
      "text/plain": [
       "2256752"
      ]
     },
     "execution_count": 43,
     "metadata": {},
     "output_type": "execute_result"
    }
   ],
   "source": [
    "len(df.escolaridade)"
   ]
  },
  {
   "cell_type": "code",
   "execution_count": 44,
   "metadata": {},
   "outputs": [
    {
     "data": {
      "image/png": "[encoded data removed]",
      "text/plain": [
       "<Figure size 432x288 with 1 Axes>"
      ]
     },
     "metadata": {
      "needs_background": "light"
     },
     "output_type": "display_data"
    }
   ],
   "source": [
    "from scipy.stats import norm\n",
    "\n",
    "# Generate some data for this demonstration.\n",
    "data = df.escolaridade\n",
    "\n",
    "# Fit a normal distribution to the data:\n",
    "mu, std = norm.fit(data)\n",
    "\n",
    "# Plot the histogram.\n",
    "plt.hist(data, bins=100, density=True, alpha=0.6, color='b')\n",
    "\n",
    "# Plot the PDF.\n",
    "xmin, xmax = plt.xlim()\n",
    "x = np.linspace(xmin, xmax, 50)\n",
    "p = norm.pdf(x, mu, std)\n",
    "plt.plot(x, p, 'k', linewidth=2)\n",
    "title = \"Escolaridade\"\n",
    "plt.title(title)\n",
    "\n",
    "plt.show()"
   ]
  },
  {
   "cell_type": "code",
   "execution_count": 75,
   "metadata": {},
   "outputs": [
    {
     "data": {
      "image/png": "[encoded data removed]",
      "text/plain": [
       "<Figure size 432x288 with 1 Axes>"
      ]
     },
     "metadata": {
      "needs_background": "light"
     },
     "output_type": "display_data"
    }
   ],
   "source": [
    "x = df['escolaridade']\n",
    "y = df['salario']\n",
    "\n",
    "# Plot\n",
    "title = \"Escolaridade x Salario\"\n",
    "plt.scatter(x, y )\n",
    "plt.title(title)\n",
    "plt.xlabel('Escolaridade')\n",
    "plt.ylabel('Salario')\n",
    "plt.show()"
   ]
  },
  {
   "cell_type": "code",
   "execution_count": 81,
   "metadata": {},
   "outputs": [
    {
     "name": "stdout",
     "output_type": "stream",
     "text": [
      "0.18470180695812688\n"
     ]
    }
   ],
   "source": [
    "# Calculando a correlação (Pierson) entre as duas variáveis pelo scipy.stats\n",
    "#Como o valor ficou prox de 0, a correlação é FRACA.\n",
    "\n",
    "import scipy.stats\n",
    "x = df['escolaridade']\n",
    "y = df['salario']\n",
    "\n",
    "metodo_nutella = scipy.stats.pearsonr(x, y)\n",
    "print(metodo_nutella[0])"
   ]
  },
  {
   "cell_type": "code",
   "execution_count": 79,
   "metadata": {},
   "outputs": [
    {
     "data": {
      "text/plain": [
       "array([[2.39797097e+00, 5.99928271e+02],\n",
       "       [5.99928271e+02, 4.39959244e+06]])"
      ]
     },
     "execution_count": 79,
     "metadata": {},
     "output_type": "execute_result"
    }
   ],
   "source": [
    "# Cálculo da covariância por numpy\n",
    "\n",
    "from numpy import cov\n",
    "x = df['escolaridade']\n",
    "y = df['salario']\n",
    "cov(x, y)"
   ]
  },
  {
   "cell_type": "markdown",
   "metadata": {},
   "source": [
    "# Item 5: verifique os dados da variável Sexo, plote uma distribuição e uma dispersão, calcule a correlação com a variável salário mensal e interprete os resultados. Depois disso, faça uma inferência estatística pra verificar se os homens ganham mais que as mulheres."
   ]
  },
  {
   "cell_type": "code",
   "execution_count": 48,
   "metadata": {},
   "outputs": [
    {
     "data": {
      "text/plain": [
       "1    1323127\n",
       "2     933625\n",
       "Name: sexo, dtype: int64"
      ]
     },
     "execution_count": 48,
     "metadata": {},
     "output_type": "execute_result"
    }
   ],
   "source": [
    "df=df.sort_values(by = 'sexo')\n",
    "df.sexo.value_counts()"
   ]
  },
  {
   "cell_type": "code",
   "execution_count": 49,
   "metadata": {},
   "outputs": [
    {
     "name": "stdout",
     "output_type": "stream",
     "text": [
      "Homens: 0.5863\n",
      "Mulheres: 0.4137\n"
     ]
    }
   ],
   "source": [
    "print(f'Homens: {(len(df[df.sexo==1])/len(df.sexo)):.04f}')\n",
    "print(f'Mulheres: {(len(df[df.sexo==2])/len(df.sexo)):.04f}')"
   ]
  },
  {
   "cell_type": "code",
   "execution_count": 72,
   "metadata": {},
   "outputs": [
    {
     "data": {
      "image/png": "[encoded data removed]",
      "text/plain": [
       "<Figure size 432x288 with 1 Axes>"
      ]
     },
     "metadata": {
      "needs_background": "light"
     },
     "output_type": "display_data"
    }
   ],
   "source": [
    "x = df['sexo']\n",
    "y = df['salario']\n",
    "\n",
    "# Plot\n",
    "title = \"1=Homens, 2=Mulheres\"\n",
    "plt.scatter(x, y)\n",
    "plt.title(title)\n",
    "plt.xlabel('Sexo')\n",
    "plt.ylabel('Salario')\n",
    "plt.show()"
   ]
  },
  {
   "cell_type": "code",
   "execution_count": 82,
   "metadata": {},
   "outputs": [
    {
     "name": "stdout",
     "output_type": "stream",
     "text": [
      "-0.04239430463953993\n"
     ]
    }
   ],
   "source": [
    "# Calculando a correlação (Pierson) entre as duas variáveis pelo scipy.stats\n",
    "#Como o valor ficou prox de 0, a correlação é FRACA.\n",
    "\n",
    "import scipy.stats\n",
    "x = df['sexo']\n",
    "y = df['salario']\n",
    "\n",
    "metodo_nutella = scipy.stats.pearsonr(x, y)\n",
    "print(metodo_nutella[0])"
   ]
  },
  {
   "cell_type": "markdown",
   "metadata": {},
   "source": [
    "# Item 6: Verifique os dados da variável Raça Cor, plote uma distribuição e uma dispersão, calcule a correlação com a variável salário mensal e interprete os resultados. Depois disso, faça uma inferência estatística pra verificar se os brancos ganham mais que os outros grupos étnicos."
   ]
  },
  {
   "cell_type": "code",
   "execution_count": 52,
   "metadata": {},
   "outputs": [
    {
     "data": {
      "text/plain": [
       "2    979869\n",
       "8    815848\n",
       "9    306806\n",
       "4    133648\n",
       "6     11011\n",
       "1      9570\n",
       "Name: raca, dtype: int64"
      ]
     },
     "execution_count": 52,
     "metadata": {},
     "output_type": "execute_result"
    }
   ],
   "source": [
    "df=df.sort_values(by = 'raca')\n",
    "df.raca.value_counts()"
   ]
  },
  {
   "cell_type": "code",
   "execution_count": 53,
   "metadata": {},
   "outputs": [
    {
     "data": {
      "text/plain": [
       "2256752"
      ]
     },
     "execution_count": 53,
     "metadata": {},
     "output_type": "execute_result"
    }
   ],
   "source": [
    "len(df.raca)"
   ]
  },
  {
   "cell_type": "code",
   "execution_count": 54,
   "metadata": {},
   "outputs": [
    {
     "data": {
      "image/png": "[encoded data removed]",
      "text/plain": [
       "<Figure size 432x288 with 1 Axes>"
      ]
     },
     "metadata": {
      "needs_background": "light"
     },
     "output_type": "display_data"
    }
   ],
   "source": [
    "from scipy.stats import norm\n",
    "\n",
    "# Generate some data for this demonstration.\n",
    "data = df.raca\n",
    "\n",
    "# Fit a normal distribution to the data:\n",
    "mu, std = norm.fit(data)\n",
    "\n",
    "# Plot the histogram.\n",
    "plt.hist(data, bins=100, density=True, alpha=0.6, color='b')\n",
    "\n",
    "# Plot the PDF.\n",
    "xmin, xmax = plt.xlim()\n",
    "x = np.linspace(xmin, xmax, 50)\n",
    "p = norm.pdf(x, mu, std)\n",
    "plt.plot(x, p, 'k', linewidth=2)\n",
    "title = \"1=Indigena, 2=Branca, 4=Preta, 6=Amarela, 8=Parda, 9=Não Identif\"\n",
    "plt.title(title)\n",
    "\n",
    "plt.show()"
   ]
  },
  {
   "cell_type": "code",
   "execution_count": 73,
   "metadata": {},
   "outputs": [
    {
     "data": {
      "image/png": "[encoded data removed]",
      "text/plain": [
       "<Figure size 432x288 with 1 Axes>"
      ]
     },
     "metadata": {
      "needs_background": "light"
     },
     "output_type": "display_data"
    }
   ],
   "source": [
    "x = df['raca']\n",
    "y = df['salario']\n",
    "\n",
    "# Plot\n",
    "plt.scatter(x, y)\n",
    "plt.title(title)\n",
    "plt.xlabel('Raça')\n",
    "plt.ylabel('Salario')\n",
    "plt.show()"
   ]
  },
  {
   "cell_type": "code",
   "execution_count": 74,
   "metadata": {},
   "outputs": [
    {
     "name": "stdout",
     "output_type": "stream",
     "text": [
      "-0.0777269035730795\n"
     ]
    }
   ],
   "source": [
    "# Calculando a correlação (Pierson) entre as duas variáveis pelo scipy.stats\n",
    "#Como o valor ficou prox de 0, a correlação é FRACA.\n",
    "\n",
    "import scipy.stats\n",
    "x = df['raca']\n",
    "y = df['salario']\n",
    "\n",
    "metodo_nutella = scipy.stats.pearsonr(x, y)\n",
    "print(metodo_nutella[0])"
   ]
  },
  {
   "cell_type": "markdown",
   "metadata": {},
   "source": [
    "# Separando Salário Homens x Mulheres"
   ]
  },
  {
   "cell_type": "code",
   "execution_count": 121,
   "metadata": {},
   "outputs": [],
   "source": [
    "#excluidos salario == 0\n",
    "\n",
    "dfh=df1[df1.sexo==1]\n",
    "dfm=df1[df1.sexo==2]"
   ]
  },
  {
   "cell_type": "code",
   "execution_count": 95,
   "metadata": {},
   "outputs": [
    {
     "data": {
      "text/plain": [
       "1310312"
      ]
     },
     "execution_count": 95,
     "metadata": {},
     "output_type": "execute_result"
    }
   ],
   "source": [
    "len(dfh)"
   ]
  },
  {
   "cell_type": "code",
   "execution_count": 89,
   "metadata": {},
   "outputs": [
    {
     "data": {
      "text/plain": [
       "922195"
      ]
     },
     "execution_count": 89,
     "metadata": {},
     "output_type": "execute_result"
    }
   ],
   "source": [
    "len(dfm)"
   ]
  },
  {
   "cell_type": "code",
   "execution_count": 96,
   "metadata": {},
   "outputs": [
    {
     "data": {
      "text/plain": [
       "count    1.310312e+06\n",
       "mean     1.718586e+03\n",
       "std      2.155230e+03\n",
       "min      2.870000e+02\n",
       "25%      1.100000e+03\n",
       "50%      1.331000e+03\n",
       "75%      1.718000e+03\n",
       "max      1.428300e+05\n",
       "Name: salario, dtype: float64"
      ]
     },
     "execution_count": 96,
     "metadata": {},
     "output_type": "execute_result"
    }
   ],
   "source": [
    "dfh.salario.describe()"
   ]
  },
  {
   "cell_type": "code",
   "execution_count": 93,
   "metadata": {},
   "outputs": [
    {
     "data": {
      "text/plain": [
       "count    922195.000000\n",
       "mean       1540.241696\n",
       "std        2019.285051\n",
       "min         287.000000\n",
       "25%        1048.000000\n",
       "50%        1225.000000\n",
       "75%        1458.000000\n",
       "max      142726.000000\n",
       "Name: salario, dtype: float64"
      ]
     },
     "execution_count": 93,
     "metadata": {},
     "output_type": "execute_result"
    }
   ],
   "source": [
    "dfm.salario.describe()"
   ]
  },
  {
   "cell_type": "code",
   "execution_count": 122,
   "metadata": {},
   "outputs": [
    {
     "data": {
      "image/png": "[encoded data removed]",
      "text/plain": [
       "<Figure size 432x288 with 1 Axes>"
      ]
     },
     "metadata": {
      "needs_background": "light"
     },
     "output_type": "display_data"
    }
   ],
   "source": [
    "from scipy.stats import norm\n",
    "\n",
    "# Generate some data for this demonstration.\n",
    "datah = dfh.salario\n",
    "datam = dfm.salario\n",
    "\n",
    "# Fit a normal distribution to the data:\n",
    "muh, stdh = norm.fit(datah)\n",
    "mum, stdm = norm.fit(datam)\n",
    "\n",
    "# Plot the histogram.\n",
    "plt.hist(datah, bins=100, density=True, alpha=0.6, color='b')\n",
    "plt.hist(datam, bins=100, density=True, alpha=0.6, color='r')\n",
    "\n",
    "\n",
    "# Plot the PDF.\n",
    "xmin, xmax = plt.xlim()\n",
    "x = np.linspace(xmin, xmax, 100)\n",
    "ph = norm.pdf(x, muh, stdh)\n",
    "plt.plot(x, ph, 'k', linewidth=2)\n",
    "pm = norm.pdf(x, mum, stdm)\n",
    "plt.plot(x, pm, 'r', linewidth=2)\n",
    "title = \"Salario_Homens x Mulheres\"\n",
    "plt.title(title)\n",
    "\n",
    "plt.show()"
   ]
  },
  {
   "cell_type": "code",
   "execution_count": 123,
   "metadata": {},
   "outputs": [
    {
     "data": {
      "text/plain": [
       "(0.2709869146347046, 0.0)"
      ]
     },
     "execution_count": 123,
     "metadata": {},
     "output_type": "execute_result"
    }
   ],
   "source": [
    "#Teste de Shapiro para Verif da Normalidade considerando Salarios Homens Normalizados\n",
    "import numpy as np # linear algebraimport scipy\n",
    "from scipy import stats\n",
    "\n",
    "stats.shapiro(dfh['salario'])"
   ]
  },
  {
   "cell_type": "code",
   "execution_count": 124,
   "metadata": {},
   "outputs": [
    {
     "data": {
      "text/plain": [
       "(0.22465205192565918, 0.0)"
      ]
     },
     "execution_count": 124,
     "metadata": {},
     "output_type": "execute_result"
    }
   ],
   "source": [
    "#Teste de Shapiro para Verif da Normalidade considerando Salarios Mulheres Normalizados\n",
    "import numpy as np # linear algebraimport scipy\n",
    "from scipy import stats\n",
    "\n",
    "stats.shapiro(dfm['salario'])"
   ]
  },
  {
   "cell_type": "markdown",
   "metadata": {},
   "source": [
    "# Aplicando Log"
   ]
  },
  {
   "cell_type": "code",
   "execution_count": 126,
   "metadata": {},
   "outputs": [],
   "source": [
    "# aplicando o LOG na série de dados de salário > 0 e plotando uam distribuição\n",
    "dfh['log_salario'] = np.log(dfh['salario'])\n",
    "dfm['log_salario'] = np.log(dfm['salario'])"
   ]
  },
  {
   "cell_type": "code",
   "execution_count": 131,
   "metadata": {},
   "outputs": [
    {
     "data": {
      "image/png": "[encoded data removed]",
      "text/plain": [
       "<Figure size 432x288 with 1 Axes>"
      ]
     },
     "metadata": {
      "needs_background": "light"
     },
     "output_type": "display_data"
    }
   ],
   "source": [
    "from scipy.stats import norm\n",
    "\n",
    "# Generate some data for this demonstration.\n",
    "datah_log = dfh.log_salario\n",
    "datam_log = dfm.log_salario\n",
    "\n",
    "# Fit a normal distribution to the data:\n",
    "muh_log, stdh_log = norm.fit(datah_log)\n",
    "mum_log, stdm_log = norm.fit(datam_log)\n",
    "\n",
    "# Plot the histogram.\n",
    "plt.hist(datah_log, bins=100, density=True, alpha=0.6, color='b')\n",
    "plt.hist(datam_log, bins=100, density=True, alpha=0.6, color='r')\n",
    "\n",
    "\n",
    "# Plot the PDF.\n",
    "xmin, xmax = plt.xlim()\n",
    "x = np.linspace(xmin, xmax, 100)\n",
    "ph_log = norm.pdf(x, muh_log, stdh_log)\n",
    "plt.plot(x, ph_log, 'k', linewidth=2)\n",
    "pm_log = norm.pdf(x, mum_log, stdm_log)\n",
    "plt.plot(x, pm_log, 'r', linewidth=2)\n",
    "title = \"Salario_Homens x Mulheres com Log\"\n",
    "plt.title(title)\n",
    "\n",
    "plt.show()"
   ]
  },
  {
   "cell_type": "markdown",
   "metadata": {},
   "source": [
    "# Teste de Shapiro após Log Homem x Mulher"
   ]
  },
  {
   "cell_type": "code",
   "execution_count": 132,
   "metadata": {},
   "outputs": [
    {
     "data": {
      "text/plain": [
       "((0.8583380579948425, 0.0), (0.8463006019592285, 0.0))"
      ]
     },
     "execution_count": 132,
     "metadata": {},
     "output_type": "execute_result"
    }
   ],
   "source": [
    "import numpy as np # linear algebraimport scipy\n",
    "from scipy import stats\n",
    "\n",
    "stats.shapiro(dfh['log_salario']) , stats.shapiro(dfm['log_salario'])"
   ]
  },
  {
   "cell_type": "code",
   "execution_count": null,
   "metadata": {},
   "outputs": [],
   "source": [
    "dfh2=dfh[(dfh['normal_log_salario'] <= Z_score_sup) & (dfh['normal_log_salario'] >= Z_score_inf)]\n",
    "df2=df2.sort_values(by = 'normal_log_salario')"
   ]
  },
  {
   "cell_type": "markdown",
   "metadata": {},
   "source": [
    "## Verificando o Z-score"
   ]
  },
  {
   "cell_type": "code",
   "execution_count": 120,
   "metadata": {},
   "outputs": [
    {
     "data": {
      "text/plain": [
       "(-1.8922243092789295, 2.060508269739705)"
      ]
     },
     "execution_count": 120,
     "metadata": {},
     "output_type": "execute_result"
    }
   ],
   "source": [
    "# calculando o intervalo de confiança para os dados normalizados\n",
    "# é esperado os valores de z_score\n",
    "stats.norm.interval(alpha=0.95,loc=muh,scale=stdh)"
   ]
  },
  {
   "cell_type": "markdown",
   "metadata": {},
   "source": [
    "# Normalizando o Log para Homens e Mulheres"
   ]
  },
  {
   "cell_type": "code",
   "execution_count": 134,
   "metadata": {},
   "outputs": [],
   "source": [
    "dfh['normal_log_salario'] = ( dfh['log_salario'] - dfh['log_salario'].mean() ) / dfh['log_salario'].std()\n",
    "dfm['normal_log_salario'] = ( dfm['log_salario'] - dfm['log_salario'].mean() ) / dfm['log_salario'].std()"
   ]
  },
  {
   "cell_type": "code",
   "execution_count": 138,
   "metadata": {},
   "outputs": [
    {
     "data": {
      "image/png": "[encoded data removed]",
      "text/plain": [
       "<Figure size 432x288 with 1 Axes>"
      ]
     },
     "metadata": {
      "needs_background": "light"
     },
     "output_type": "display_data"
    }
   ],
   "source": [
    "from scipy.stats import norm\n",
    "\n",
    "# Generate some data for this demonstration.\n",
    "datah_normal = dfh.normal_log_salario\n",
    "datam_normal = dfm.normal_log_salario\n",
    "\n",
    "# Fit a normal distribution to the data:\n",
    "muh_normal, stdh_normal = norm.fit(datah_normal)\n",
    "mum_normal, stdm_normal = norm.fit(datam_normal)\n",
    "\n",
    "# Plot the histogram.\n",
    "plt.hist(datah_normal, bins=100, density=True, alpha=0.6, color='b')\n",
    "plt.hist(datam_normal, bins=100, density=True, alpha=0.6, color='r')\n",
    "\n",
    "\n",
    "# Plot the PDF.\n",
    "xmin, xmax = plt.xlim()\n",
    "x = np.linspace(xmin, xmax, 100)\n",
    "ph_normal = norm.pdf(x, muh_normal, stdh_normal)\n",
    "plt.plot(x, ph_normal, 'k', linewidth=2)\n",
    "pm_normal = norm.pdf(x, mum_normal, stdm_normal)\n",
    "plt.plot(x, pm_normal, 'r', linewidth=2)\n",
    "title = \"Salario_Homens x Mulheres Normalizados\"\n",
    "plt.title(title)\n",
    "\n",
    "plt.show()"
   ]
  },
  {
   "cell_type": "markdown",
   "metadata": {},
   "source": [
    "# Verificando o Z-Score"
   ]
  },
  {
   "cell_type": "code",
   "execution_count": 140,
   "metadata": {},
   "outputs": [
    {
     "data": {
      "text/plain": [
       "((-1.9599632366172868, 1.9599632366667423),\n",
       " (-1.9599629218389223, 1.9599629219172352))"
      ]
     },
     "execution_count": 140,
     "metadata": {},
     "output_type": "execute_result"
    }
   ],
   "source": [
    "# calculando o intervalo de confiança para os dados normalizados\n",
    "# é esperado os valores de z_score\n",
    "stats.norm.interval(alpha=0.95,loc=muh_normal,scale=stdh_normal) , stats.norm.interval(alpha=0.95,loc=mum_normal,scale=stdm_normal)"
   ]
  },
  {
   "cell_type": "code",
   "execution_count": 144,
   "metadata": {},
   "outputs": [
    {
     "data": {
      "text/plain": [
       "(-1.9599632366172868,\n",
       " 1.9599629219028065,\n",
       " -1.9599629218389223,\n",
       " 1.9599629219172352)"
      ]
     },
     "execution_count": 144,
     "metadata": {},
     "output_type": "execute_result"
    }
   ],
   "source": [
    "# armazenando os dados em variáveis \n",
    "Z_score_h_normal_inf = stats.norm.interval(alpha=0.95,loc=muh_normal,scale=stdh_normal)[0]\n",
    "Z_score_m_normal_inf = stats.norm.interval(alpha=0.95,loc=mum_normal,scale=stdm_normal)[0]\n",
    "\n",
    "Z_score_h_normal_sup = stats.norm.interval(alpha=0.95,loc=muh_normal,scale=stdm_normal)[1]\n",
    "Z_score_m_normal_sup = stats.norm.interval(alpha=0.95,loc=mum_normal,scale=stdm_normal)[1]\n",
    "\n",
    "Z_score_h_normal_inf, Z_score_h_normal_sup, Z_score_m_normal_inf, Z_score_m_normal_sup"
   ]
  },
  {
   "cell_type": "markdown",
   "metadata": {},
   "source": [
    "# Criando dfh2 e dfm2 somente com salários H x M contidos no intervalo de confiança"
   ]
  },
  {
   "cell_type": "code",
   "execution_count": 146,
   "metadata": {},
   "outputs": [],
   "source": [
    "dfh2=dfh[(dfh['normal_log_salario'] <= Z_score_h_normal_sup) & (dfh['normal_log_salario'] >= Z_score_h_normal_inf)]\n",
    "dfm2=dfm[(dfm['normal_log_salario'] <= Z_score_m_normal_sup) & (dfm['normal_log_salario'] >= Z_score_m_normal_inf)]\n",
    "\n",
    "dfh2=dfh2.sort_values(by = 'normal_log_salario')\n",
    "dfm2=dfm2.sort_values(by = 'normal_log_salario')"
   ]
  },
  {
   "cell_type": "code",
   "execution_count": 149,
   "metadata": {},
   "outputs": [
    {
     "data": {
      "text/html": [
       "<div>\n",
       "<style scoped>\n",
       "    .dataframe tbody tr th:only-of-type {\n",
       "        vertical-align: middle;\n",
       "    }\n",
       "\n",
       "    .dataframe tbody tr th {\n",
       "        vertical-align: top;\n",
       "    }\n",
       "\n",
       "    .dataframe thead th {\n",
       "        text-align: right;\n",
       "    }\n",
       "</style>\n",
       "<table border=\"1\" class=\"dataframe\">\n",
       "  <thead>\n",
       "    <tr style=\"text-align: right;\">\n",
       "      <th></th>\n",
       "      <th>admitidos_desligados</th>\n",
       "      <th>escolaridade</th>\n",
       "      <th>idade</th>\n",
       "      <th>raca</th>\n",
       "      <th>salario</th>\n",
       "      <th>sexo</th>\n",
       "      <th>UF</th>\n",
       "      <th>log_salario</th>\n",
       "      <th>normal_log_salario</th>\n",
       "    </tr>\n",
       "  </thead>\n",
       "  <tbody>\n",
       "    <tr>\n",
       "      <th>1306577</th>\n",
       "      <td>2</td>\n",
       "      <td>6</td>\n",
       "      <td>16</td>\n",
       "      <td>8</td>\n",
       "      <td>566.0</td>\n",
       "      <td>1</td>\n",
       "      <td>35</td>\n",
       "      <td>6.338594</td>\n",
       "      <td>-1.959686</td>\n",
       "    </tr>\n",
       "  </tbody>\n",
       "</table>\n",
       "</div>"
      ],
      "text/plain": [
       "         admitidos_desligados  escolaridade  idade  raca  salario  sexo  UF  \\\n",
       "1306577                     2             6     16     8    566.0     1  35   \n",
       "\n",
       "         log_salario  normal_log_salario  \n",
       "1306577     6.338594           -1.959686  "
      ]
     },
     "execution_count": 149,
     "metadata": {},
     "output_type": "execute_result"
    }
   ],
   "source": [
    "#Menor Salário Homem dentro do I.C (Z=-1.96): R$566,00\n",
    "dfh2.head(1)"
   ]
  },
  {
   "cell_type": "code",
   "execution_count": 150,
   "metadata": {},
   "outputs": [
    {
     "data": {
      "text/html": [
       "<div>\n",
       "<style scoped>\n",
       "    .dataframe tbody tr th:only-of-type {\n",
       "        vertical-align: middle;\n",
       "    }\n",
       "\n",
       "    .dataframe tbody tr th {\n",
       "        vertical-align: top;\n",
       "    }\n",
       "\n",
       "    .dataframe thead th {\n",
       "        text-align: right;\n",
       "    }\n",
       "</style>\n",
       "<table border=\"1\" class=\"dataframe\">\n",
       "  <thead>\n",
       "    <tr style=\"text-align: right;\">\n",
       "      <th></th>\n",
       "      <th>admitidos_desligados</th>\n",
       "      <th>escolaridade</th>\n",
       "      <th>idade</th>\n",
       "      <th>raca</th>\n",
       "      <th>salario</th>\n",
       "      <th>sexo</th>\n",
       "      <th>UF</th>\n",
       "      <th>log_salario</th>\n",
       "      <th>normal_log_salario</th>\n",
       "    </tr>\n",
       "  </thead>\n",
       "  <tbody>\n",
       "    <tr>\n",
       "      <th>1717351</th>\n",
       "      <td>2</td>\n",
       "      <td>6</td>\n",
       "      <td>43</td>\n",
       "      <td>2</td>\n",
       "      <td>530.0</td>\n",
       "      <td>2</td>\n",
       "      <td>31</td>\n",
       "      <td>6.272877</td>\n",
       "      <td>-1.958523</td>\n",
       "    </tr>\n",
       "  </tbody>\n",
       "</table>\n",
       "</div>"
      ],
      "text/plain": [
       "         admitidos_desligados  escolaridade  idade  raca  salario  sexo  UF  \\\n",
       "1717351                     2             6     43     2    530.0     2  31   \n",
       "\n",
       "         log_salario  normal_log_salario  \n",
       "1717351     6.272877           -1.958523  "
      ]
     },
     "execution_count": 150,
     "metadata": {},
     "output_type": "execute_result"
    }
   ],
   "source": [
    "#Menor Salário Mulher dentro do I.C (Z=-1.96): R$530,00\n",
    "dfm2.head(1)"
   ]
  },
  {
   "cell_type": "code",
   "execution_count": 151,
   "metadata": {},
   "outputs": [
    {
     "data": {
      "text/html": [
       "<div>\n",
       "<style scoped>\n",
       "    .dataframe tbody tr th:only-of-type {\n",
       "        vertical-align: middle;\n",
       "    }\n",
       "\n",
       "    .dataframe tbody tr th {\n",
       "        vertical-align: top;\n",
       "    }\n",
       "\n",
       "    .dataframe thead th {\n",
       "        text-align: right;\n",
       "    }\n",
       "</style>\n",
       "<table border=\"1\" class=\"dataframe\">\n",
       "  <thead>\n",
       "    <tr style=\"text-align: right;\">\n",
       "      <th></th>\n",
       "      <th>admitidos_desligados</th>\n",
       "      <th>escolaridade</th>\n",
       "      <th>idade</th>\n",
       "      <th>raca</th>\n",
       "      <th>salario</th>\n",
       "      <th>sexo</th>\n",
       "      <th>UF</th>\n",
       "      <th>log_salario</th>\n",
       "      <th>normal_log_salario</th>\n",
       "    </tr>\n",
       "  </thead>\n",
       "  <tbody>\n",
       "    <tr>\n",
       "      <th>1047187</th>\n",
       "      <td>2</td>\n",
       "      <td>7</td>\n",
       "      <td>29</td>\n",
       "      <td>2</td>\n",
       "      <td>3701.0</td>\n",
       "      <td>1</td>\n",
       "      <td>35</td>\n",
       "      <td>8.216358</td>\n",
       "      <td>1.959657</td>\n",
       "    </tr>\n",
       "  </tbody>\n",
       "</table>\n",
       "</div>"
      ],
      "text/plain": [
       "         admitidos_desligados  escolaridade  idade  raca  salario  sexo  UF  \\\n",
       "1047187                     2             7     29     2   3701.0     1  35   \n",
       "\n",
       "         log_salario  normal_log_salario  \n",
       "1047187     8.216358            1.959657  "
      ]
     },
     "execution_count": 151,
     "metadata": {},
     "output_type": "execute_result"
    }
   ],
   "source": [
    "#Maior Salário Homem dentro do I.C (Z=-1.96): R$3.701,00\n",
    "dfh2.tail(1)"
   ]
  },
  {
   "cell_type": "code",
   "execution_count": 152,
   "metadata": {},
   "outputs": [
    {
     "data": {
      "text/html": [
       "<div>\n",
       "<style scoped>\n",
       "    .dataframe tbody tr th:only-of-type {\n",
       "        vertical-align: middle;\n",
       "    }\n",
       "\n",
       "    .dataframe tbody tr th {\n",
       "        vertical-align: top;\n",
       "    }\n",
       "\n",
       "    .dataframe thead th {\n",
       "        text-align: right;\n",
       "    }\n",
       "</style>\n",
       "<table border=\"1\" class=\"dataframe\">\n",
       "  <thead>\n",
       "    <tr style=\"text-align: right;\">\n",
       "      <th></th>\n",
       "      <th>admitidos_desligados</th>\n",
       "      <th>escolaridade</th>\n",
       "      <th>idade</th>\n",
       "      <th>raca</th>\n",
       "      <th>salario</th>\n",
       "      <th>sexo</th>\n",
       "      <th>UF</th>\n",
       "      <th>log_salario</th>\n",
       "      <th>normal_log_salario</th>\n",
       "    </tr>\n",
       "  </thead>\n",
       "  <tbody>\n",
       "    <tr>\n",
       "      <th>1514393</th>\n",
       "      <td>2</td>\n",
       "      <td>9</td>\n",
       "      <td>37</td>\n",
       "      <td>4</td>\n",
       "      <td>3259.0</td>\n",
       "      <td>2</td>\n",
       "      <td>33</td>\n",
       "      <td>8.089176</td>\n",
       "      <td>1.959922</td>\n",
       "    </tr>\n",
       "  </tbody>\n",
       "</table>\n",
       "</div>"
      ],
      "text/plain": [
       "         admitidos_desligados  escolaridade  idade  raca  salario  sexo  UF  \\\n",
       "1514393                     2             9     37     4   3259.0     2  33   \n",
       "\n",
       "         log_salario  normal_log_salario  \n",
       "1514393     8.089176            1.959922  "
      ]
     },
     "execution_count": 152,
     "metadata": {},
     "output_type": "execute_result"
    }
   ],
   "source": [
    "#Maior Salário Mulher dentro do I.C (Z=-1.96): R$3.529,00\n",
    "dfm2.tail(1)"
   ]
  },
  {
   "cell_type": "code",
   "execution_count": 158,
   "metadata": {},
   "outputs": [
    {
     "name": "stdout",
     "output_type": "stream",
     "text": [
      "Qtd de salários H dentro do Intervalo de Confiança (95%): 1229163\n",
      "Qtd de salários M dentro do Intervalo de Confiança (95%): 857799\n",
      "\n",
      "\n",
      "Menor Salário H x M no Intervalo de Confiança (95%): R$566.00(H) x R$530.0(M)\n",
      "Maior Salário H x M no Intervalo de Confiança (95%): R$3701.00(H) x R$3259.0(M)\n",
      "\n",
      "\n",
      "\u001b[7mConclusão:\u001b[m Por inferência, salários Mulheres são menores que salários Homens.\n"
     ]
    }
   ],
   "source": [
    "menor_salario_h=dfh2.salario.min()\n",
    "maior_salario_h=dfh2.salario.max()\n",
    "\n",
    "menor_salario_m=dfm2.salario.min()\n",
    "maior_salario_m=dfm2.salario.max()\n",
    "\n",
    "print(f'Qtd de salários H dentro do Intervalo de Confiança (95%): {len(dfh2)}')\n",
    "print(f'Qtd de salários M dentro do Intervalo de Confiança (95%): {len(dfm2)}')\n",
    "print('\\n')\n",
    "print(f'Menor Salário H x M no Intervalo de Confiança (95%): R${menor_salario_h:.02f}(H) x R${menor_salario_m}(M)')\n",
    "print(f'Maior Salário H x M no Intervalo de Confiança (95%): R${maior_salario_h:.02f}(H) x R${maior_salario_m}(M)')\n",
    "print('\\n')\n",
    "print(f'\\033[7mConclusão:\\033[m Por inferência, salários Mulheres são menores que salários Homens.')"
   ]
  }
 ],
 "metadata": {
  "kernelspec": {
   "display_name": "Python 3",
   "language": "python",
   "name": "python3"
  },
  "language_info": {
   "codemirror_mode": {
    "name": "ipython",
    "version": 3
   },
   "file_extension": ".py",
   "mimetype": "text/x-python",
   "name": "python",
   "nbconvert_exporter": "python",
   "pygments_lexer": "ipython3",
   "version": "3.7.3"
  },
  "latex_envs": {
   "LaTeX_envs_menu_present": true,
   "autoclose": false,
   "autocomplete": true,
   "bibliofile": "biblio.bib",
   "cite_by": "apalike",
   "current_citInitial": 1,
   "eqLabelWithNumbers": true,
   "eqNumInitial": 1,
   "hotkeys": {
    "equation": "Ctrl-E",
    "itemize": "Ctrl-I"
   },
   "labels_anchors": false,
   "latex_user_defs": false,
   "report_style_numbering": false,
   "user_envs_cfg": false
  },
  "toc": {
   "base_numbering": 1,
   "nav_menu": {},
   "number_sections": true,
   "sideBar": true,
   "skip_h1_title": false,
   "title_cell": "Table of Contents",
   "title_sidebar": "Contents",
   "toc_cell": false,
   "toc_position": {},
   "toc_section_display": true,
   "toc_window_display": false
  },
  "varInspector": {
   "cols": {
    "lenName": 16,
    "lenType": 16,
    "lenVar": 40
   },
   "kernels_config": {
    "python": {
     "delete_cmd_postfix": "",
     "delete_cmd_prefix": "del ",
     "library": "var_list.py",
     "varRefreshCmd": "print(var_dic_list())"
    },
    "r": {
     "delete_cmd_postfix": ") ",
     "delete_cmd_prefix": "rm(",
     "library": "var_list.r",
     "varRefreshCmd": "cat(var_dic_list()) "
    }
   },
   "types_to_exclude": [
    "module",
    "function",
    "builtin_function_or_method",
    "instance",
    "_Feature"
   ],
   "window_display": false
  }
 },
 "nbformat": 4,
 "nbformat_minor": 4
}
